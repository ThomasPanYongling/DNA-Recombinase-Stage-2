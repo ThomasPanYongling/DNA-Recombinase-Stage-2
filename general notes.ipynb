{
 "cells": [
  {
   "cell_type": "markdown",
   "metadata": {},
   "source": [
    "graph h,i in Fig 5 of IS110 paper explains the excersion and inversion mechanism"
   ]
  },
  {
   "cell_type": "markdown",
   "metadata": {},
   "source": [
    "page 42 of suppliment of simple-state machine\n",
    "Without considering the variety of sites, simply disallowing excersion gives figure 1:\n",
    "\n",
    "\n"
   ]
  },
  {
   "cell_type": "markdown",
   "metadata": {},
   "source": [
    "Experimented with IS110, need to consider pair pools, single pairs quickly cease to recombine\n",
    "\n",
    "\n",
    "('1', 'ALPHA_prime', '2_prime', 'ALPHA_prime', 'A_prime', 'A', '3', 'A', 'ALPHA', '4', 'ALPHA', 'A', '5', 'A', 'ALPHA', '6', 'ALPHA', 'A', '7', 'A', 'ALPHA', '8', 'ALPHA', 'A', '9', 'A', 'ALPHA', '10', 'ALPHA', 'A', '11')\n",
    "('1', 'ALPHA_prime', '4_prime', 'ALPHA_prime', 'A_prime', '3_prime', 'A_prime', 'ALPHA_prime', '2_prime', 'ALPHA_prime', 'A_prime', 'A', '5', 'A', 'ALPHA', '6', 'ALPHA', 'A', '7', 'A', 'ALPHA', '8', 'ALPHA', 'A', '9', 'A', 'ALPHA', '10', 'ALPHA', 'A', '11')\n",
    "('1', 'ALPHA_prime', '6_prime', 'ALPHA_prime', 'A_prime', '5_prime', 'A_prime', 'ALPHA_prime', '4_prime', 'ALPHA_prime', 'A_prime', '3_prime', 'A_prime', 'ALPHA_prime', '2_prime', 'ALPHA_prime', 'A_prime', 'A', '7', 'A', 'ALPHA', '8', 'ALPHA', 'A', '9', 'A', 'ALPHA', '10', 'ALPHA', 'A', '11')\n",
    "('1', 'ALPHA_prime', '8_prime', 'ALPHA_prime', 'A_prime', '7_prime', 'A_prime', 'ALPHA_prime', '6_prime', 'ALPHA_prime', 'A_prime', '5_prime', 'A_prime', 'ALPHA_prime', '4_prime', 'ALPHA_prime', 'A_prime', '3_prime', 'A_prime', 'ALPHA_prime', '2_prime', 'ALPHA_prime', 'A_prime', 'A', '9', 'A', 'ALPHA', '10', 'ALPHA', 'A', '11')\n",
    "('1', 'ALPHA_prime', '10_prime', 'ALPHA_prime', 'A_prime', '9_prime', 'A_prime', 'ALPHA_prime', '8_prime', 'ALPHA_prime', 'A_prime', '7_prime', 'A_prime', 'ALPHA_prime', '6_prime', 'ALPHA_prime', 'A_prime', '5_prime', 'A_prime', 'ALPHA_prime', '4_prime', 'ALPHA_prime', 'A_prime', '3_prime', 'A_prime', 'ALPHA_prime', '2_prime', 'ALPHA_prime', 'A_prime', 'A', '11')\n",
    "stage 1 completed\n",
    "('1', 'ALPHA_prime', '2_prime', 'ALPHA_prime', 'A_prime', 'A', '3', 'ALPHA_prime', '4_prime', 'ALPHA_prime', 'A_prime', 'A', '5', 'A', 'ALPHA', '6', 'ALPHA', 'A', '7', 'A', 'ALPHA', '8', 'ALPHA', 'A', '9', 'A', 'ALPHA', '10', 'ALPHA', 'A', '11')\n",
    "('1', 'ALPHA_prime', '2_prime', 'ALPHA_prime', 'A_prime', 'A', '3', 'ALPHA_prime', '6_prime', 'ALPHA_prime', 'A_prime', '5_prime', 'A_prime', 'ALPHA_prime', '4_prime', 'ALPHA_prime', 'A_prime', 'A', '7', 'A', 'ALPHA', '8', 'ALPHA', 'A', '9', 'A', 'ALPHA', '10', 'ALPHA', 'A', '11')\n",
    "('1', 'ALPHA_prime', '2_prime', 'ALPHA_prime', 'A_prime', 'A', '3', 'ALPHA_prime', '8_prime', 'ALPHA_prime', 'A_prime', '7_prime', 'A_prime', 'ALPHA_prime', '6_prime', 'ALPHA_prime', 'A_prime', '5_prime', 'A_prime', 'ALPHA_prime', '4_prime', 'ALPHA_prime', 'A_prime', 'A', '9', 'A', 'ALPHA', '10', 'ALPHA', 'A', '11')\n",
    "('1', 'ALPHA_prime', '2_prime', 'ALPHA_prime', 'A_prime', 'A', '3', 'ALPHA_prime', '10_prime', 'ALPHA_prime', 'A_prime', '9_prime', 'A_prime', 'ALPHA_prime', '8_prime', 'ALPHA_prime', 'A_prime', '7_prime', 'A_prime', 'ALPHA_prime', '6_prime', 'ALPHA_prime', 'A_prime', '5_prime', 'A_prime', 'ALPHA_prime', '4_prime', 'ALPHA_prime', 'A_prime', 'A', '11')\n",
    "('1', 'ALPHA_prime', '4_prime', 'ALPHA_prime', 'A_prime', '3_prime', 'A_prime', 'ALPHA_prime', '2_prime', 'ALPHA_prime', 'A_prime', 'A', '5', 'ALPHA_prime', '6_prime', 'ALPHA_prime', 'A_prime', 'A', '7', 'A', 'ALPHA', '8', 'ALPHA', 'A', '9', 'A', 'ALPHA', '10', 'ALPHA', 'A', '11')\n",
    "('1', 'ALPHA_prime', '4_prime', 'ALPHA_prime', 'A_prime', '3_prime', 'A_prime', 'ALPHA_prime', '2_prime', 'ALPHA_prime', 'A_prime', 'A', '5', 'ALPHA_prime', '8_prime', 'ALPHA_prime', 'A_prime', '7_prime', 'A_prime', 'ALPHA_prime', '6_prime', 'ALPHA_prime', 'A_prime', 'A', '9', 'A', 'ALPHA', '10', 'ALPHA', 'A', '11')\n",
    "('1', 'ALPHA_prime', '4_prime', 'ALPHA_prime', 'A_prime', '3_prime', 'A_prime', 'ALPHA_prime', '2_prime', 'ALPHA_prime', 'A_prime', 'A', '5', 'ALPHA_prime', '10_prime', 'ALPHA_prime', 'A_prime', '9_prime', 'A_prime', 'ALPHA_prime', '8_prime', 'ALPHA_prime', 'A_prime', '7_prime', 'A_prime', 'ALPHA_prime', '6_prime', 'ALPHA_prime', 'A_prime', 'A', '11')\n",
    "('1', 'ALPHA_prime', '6_prime', 'ALPHA_prime', 'A_prime', '5_prime', 'A_prime', 'ALPHA_prime', '4_prime', 'ALPHA_prime', 'A_prime', '3_prime', 'A_prime', 'ALPHA_prime', '2_prime', 'ALPHA_prime', 'A_prime', 'A', '7', 'ALPHA_prime', '8_prime', 'ALPHA_prime', 'A_prime', 'A', '9', 'A', 'ALPHA', '10', 'ALPHA', 'A', '11')\n",
    "('1', 'ALPHA_prime', '6_prime', 'ALPHA_prime', 'A_prime', '5_prime', 'A_prime', 'ALPHA_prime', '4_prime', 'ALPHA_prime', 'A_prime', '3_prime', 'A_prime', 'ALPHA_prime', '2_prime', 'ALPHA_prime', 'A_prime', 'A', '7', 'ALPHA_prime', '10_prime', 'ALPHA_prime', 'A_prime', '9_prime', 'A_prime', 'ALPHA_prime', '8_prime', 'ALPHA_prime', 'A_prime', 'A', '11')\n",
    "('1', 'ALPHA_prime', '8_prime', 'ALPHA_prime', 'A_prime', '7_prime', 'A_prime', 'ALPHA_prime', '6_prime', 'ALPHA_prime', 'A_prime', '5_prime', 'A_prime', 'ALPHA_prime', '4_prime', 'ALPHA_prime', 'A_prime', '3_prime', 'A_prime', 'ALPHA_prime', '2_prime', 'ALPHA_prime', 'A_prime', 'A', '9', 'ALPHA_prime', '10_prime', 'ALPHA_prime', 'A_prime', 'A', '11')\n",
    "stage 2 completed\n",
    "('1', 'ALPHA_prime', '2_prime', 'ALPHA_prime', 'A_prime', 'A', '3', 'ALPHA_prime', '4_prime', 'ALPHA_prime', 'A_prime', 'A', '5', 'ALPHA_prime', '6_prime', 'ALPHA_prime', 'A_prime', 'A', '7', 'A', 'ALPHA', '8', 'ALPHA', 'A', '9', 'A', 'ALPHA', '10', 'ALPHA', 'A', '11')\n",
    "('1', 'ALPHA_prime', '2_prime', 'ALPHA_prime', 'A_prime', 'A', '3', 'ALPHA_prime', '4_prime', 'ALPHA_prime', 'A_prime', 'A', '5', 'ALPHA_prime', '8_prime', 'ALPHA_prime', 'A_prime', '7_prime', 'A_prime', 'ALPHA_prime', '6_prime', 'ALPHA_prime', 'A_prime', 'A', '9', 'A', 'ALPHA', '10', 'ALPHA', 'A', '11')\n",
    "('1', 'ALPHA_prime', '2_prime', 'ALPHA_prime', 'A_prime', 'A', '3', 'ALPHA_prime', '4_prime', 'ALPHA_prime', 'A_prime', 'A', '5', 'ALPHA_prime', '10_prime', 'ALPHA_prime', 'A_prime', '9_prime', 'A_prime', 'ALPHA_prime', '8_prime', 'ALPHA_prime', 'A_prime', '7_prime', 'A_prime', 'ALPHA_prime', '6_prime', 'ALPHA_prime', 'A_prime', 'A', '11')\n",
    "('1', 'ALPHA_prime', '2_prime', 'ALPHA_prime', 'A_prime', 'A', '3', 'ALPHA_prime', '6_prime', 'ALPHA_prime', 'A_prime', '5_prime', 'A_prime', 'ALPHA_prime', '4_prime', 'ALPHA_prime', 'A_prime', 'A', '7', 'ALPHA_prime', '8_prime', 'ALPHA_prime', 'A_prime', 'A', '9', 'A', 'ALPHA', '10', 'ALPHA', 'A', '11')\n",
    "('1', 'ALPHA_prime', '2_prime', 'ALPHA_prime', 'A_prime', 'A', '3', 'ALPHA_prime', '6_prime', 'ALPHA_prime', 'A_prime', '5_prime', 'A_prime', 'ALPHA_prime', '4_prime', 'ALPHA_prime', 'A_prime', 'A', '7', 'ALPHA_prime', '10_prime', 'ALPHA_prime', 'A_prime', '9_prime', 'A_prime', 'ALPHA_prime', '8_prime', 'ALPHA_prime', 'A_prime', 'A', '11')\n",
    "('1', 'ALPHA_prime', '2_prime', 'ALPHA_prime', 'A_prime', 'A', '3', 'ALPHA_prime', '8_prime', 'ALPHA_prime', 'A_prime', '7_prime', 'A_prime', 'ALPHA_prime', '6_prime', 'ALPHA_prime', 'A_prime', '5_prime', 'A_prime', 'ALPHA_prime', '4_prime', 'ALPHA_prime', 'A_prime', 'A', '9', 'ALPHA_prime', '10_prime', 'ALPHA_prime', 'A_prime', 'A', '11')\n",
    "('1', 'ALPHA_prime', '4_prime', 'ALPHA_prime', 'A_prime', '3_prime', 'A_prime', 'ALPHA_prime', '2_prime', 'ALPHA_prime', 'A_prime', 'A', '5', 'ALPHA_prime', '6_prime', 'ALPHA_prime', 'A_prime', 'A', '7', 'ALPHA_prime', '8_prime', 'ALPHA_prime', 'A_prime', 'A', '9', 'A', 'ALPHA', '10', 'ALPHA', 'A', '11')\n",
    "('1', 'ALPHA_prime', '4_prime', 'ALPHA_prime', 'A_prime', '3_prime', 'A_prime', 'ALPHA_prime', '2_prime', 'ALPHA_prime', 'A_prime', 'A', '5', 'ALPHA_prime', '6_prime', 'ALPHA_prime', 'A_prime', 'A', '7', 'ALPHA_prime', '10_prime', 'ALPHA_prime', 'A_prime', '9_prime', 'A_prime', 'ALPHA_prime', '8_prime', 'ALPHA_prime', 'A_prime', 'A', '11')\n",
    "('1', 'ALPHA_prime', '4_prime', 'ALPHA_prime', 'A_prime', '3_prime', 'A_prime', 'ALPHA_prime', '2_prime', 'ALPHA_prime', 'A_prime', 'A', '5', 'ALPHA_prime', '8_prime', 'ALPHA_prime', 'A_prime', '7_prime', 'A_prime', 'ALPHA_prime', '6_prime', 'ALPHA_prime', 'A_prime', 'A', '9', 'ALPHA_prime', '10_prime', 'ALPHA_prime', 'A_prime', 'A', '11')\n",
    "('1', 'ALPHA_prime', '6_prime', 'ALPHA_prime', 'A_prime', '5_prime', 'A_prime', 'ALPHA_prime', '4_prime', 'ALPHA_prime', 'A_prime', '3_prime', 'A_prime', 'ALPHA_prime', '2_prime', 'ALPHA_prime', 'A_prime', 'A', '7', 'ALPHA_prime', '8_prime', 'ALPHA_prime', 'A_prime', 'A', '9', 'ALPHA_prime', '10_prime', 'ALPHA_prime', 'A_prime', 'A', '11')\n",
    "stage 3 completed\n",
    "('1', 'ALPHA_prime', '2_prime', 'ALPHA_prime', 'A_prime', 'A', '3', 'ALPHA_prime', '4_prime', 'ALPHA_prime', 'A_prime', 'A', '5', 'ALPHA_prime', '6_prime', 'ALPHA_prime', 'A_prime', 'A', '7', 'ALPHA_prime', '8_prime', 'ALPHA_prime', 'A_prime', 'A', '9', 'A', 'ALPHA', '10', 'ALPHA', 'A', '11')\n",
    "('1', 'ALPHA_prime', '2_prime', 'ALPHA_prime', 'A_prime', 'A', '3', 'ALPHA_prime', '4_prime', 'ALPHA_prime', 'A_prime', 'A', '5', 'ALPHA_prime', '6_prime', 'ALPHA_prime', 'A_prime', 'A', '7', 'ALPHA_prime', '10_prime', 'ALPHA_prime', 'A_prime', '9_prime', 'A_prime', 'ALPHA_prime', '8_prime', 'ALPHA_prime', 'A_prime', 'A', '11')\n",
    "('1', 'ALPHA_prime', '2_prime', 'ALPHA_prime', 'A_prime', 'A', '3', 'ALPHA_prime', '4_prime', 'ALPHA_prime', 'A_prime', 'A', '5', 'ALPHA_prime', '8_prime', 'ALPHA_prime', 'A_prime', '7_prime', 'A_prime', 'ALPHA_prime', '6_prime', 'ALPHA_prime', 'A_prime', 'A', '9', 'ALPHA_prime', '10_prime', 'ALPHA_prime', 'A_prime', 'A', '11')\n",
    "('1', 'ALPHA_prime', '2_prime', 'ALPHA_prime', 'A_prime', 'A', '3', 'ALPHA_prime', '6_prime', 'ALPHA_prime', 'A_prime', '5_prime', 'A_prime', 'ALPHA_prime', '4_prime', 'ALPHA_prime', 'A_prime', 'A', '7', 'ALPHA_prime', '8_prime', 'ALPHA_prime', 'A_prime', 'A', '9', 'ALPHA_prime', '10_prime', 'ALPHA_prime', 'A_prime', 'A', '11')\n",
    "('1', 'ALPHA_prime', '4_prime', 'ALPHA_prime', 'A_prime', '3_prime', 'A_prime', 'ALPHA_prime', '2_prime', 'ALPHA_prime', 'A_prime', 'A', '5', 'ALPHA_prime', '6_prime', 'ALPHA_prime', 'A_prime', 'A', '7', 'ALPHA_prime', '8_prime', 'ALPHA_prime', 'A_prime', 'A', '9', 'ALPHA_prime', '10_prime', 'ALPHA_prime', 'A_prime', 'A', '11')\n",
    "stage 4 completed\n",
    "('1', 'ALPHA_prime', '2_prime', 'ALPHA_prime', 'A_prime', 'A', '3', 'ALPHA_prime', '4_prime', 'ALPHA_prime', 'A_prime', 'A', '5', 'ALPHA_prime', '6_prime', 'ALPHA_prime', 'A_prime', 'A', '7', 'ALPHA_prime', '8_prime', 'ALPHA_prime', 'A_prime', 'A', '9', 'ALPHA_prime', '10_prime', 'ALPHA_prime', 'A_prime', 'A', '11')\n",
    "stage 5 completed\n",
    "stage 6 completed\n",
    "stage 7 completed\n",
    "stage 8 completed\n",
    "stage 9 completed\n",
    "stage 10 completed\n",
    "stage 10 completed\n"
   ]
  },
  {
   "cell_type": "markdown",
   "metadata": {},
   "source": [
    "Some ideas: \n",
    "Rule 1 makes diverse, rule two continues\n",
    "Enable reverse of states\n",
    "\n",
    "Notice that excersion would create a new site\n",
    "Also notice that there is a possibility to deactivate a site with an inversion\n"
   ]
  },
  {
   "cell_type": "markdown",
   "metadata": {},
   "source": [
    "List of initial dna:\n",
    "1. polylox style\n",
    "2. gamma makes unique active site style\n",
    "3. AAAABBBB style"
   ]
  },
  {
   "cell_type": "markdown",
   "metadata": {},
   "source": [
    "tasks:\n",
    ". write versions of inversion\n",
    ". get a set of pdfs \n",
    "\n",
    "\n",
    ". Then, plot the final entropy (after ~10 to 15 recombination events -- when the entropy curve has converged) as a function of initial DNA length (i.e total number of initial recombination sites) for each barcoding scheme.\n",
    "\n",
    ". try inversions \n"
   ]
  },
  {
   "cell_type": "markdown",
   "metadata": {},
   "source": [
    "Things to discuss:\n",
    "1. Not sure why polylox code doesn't match with the number in paper\n",
    "2. Myriad"
   ]
  }
 ],
 "metadata": {
  "kernelspec": {
   "display_name": "Python 3",
   "language": "python",
   "name": "python3"
  },
  "language_info": {
   "codemirror_mode": {
    "name": "ipython",
    "version": 3
   },
   "file_extension": ".py",
   "mimetype": "text/x-python",
   "name": "python",
   "nbconvert_exporter": "python",
   "pygments_lexer": "ipython3",
   "version": "3.12.2"
  }
 },
 "nbformat": 4,
 "nbformat_minor": 2
}
