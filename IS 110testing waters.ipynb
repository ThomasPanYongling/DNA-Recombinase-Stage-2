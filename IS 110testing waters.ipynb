{
 "cells": [
  {
   "cell_type": "code",
   "execution_count": 1,
   "id": "34d860d7",
   "metadata": {},
   "outputs": [],
   "source": [
    "\n",
    "initial_dna_sequence = list(\"GCACGGGTTCACCGCGGGCTCCGTTCTGAGTCGACCAAGGACACAATCGAGCTCCGATCCGTACCCTCGACAAACTTGTACCCGACCCCCGGAGCTTGCCAGCTCCTCGGGTATCATGGAGCCTGTGGTTCATCGCGTCCGATATCAAACTTCGTCATGATAAAGTCCCCCCCTCGGGAGTACCAGAGAAGATGACTACTGAGTTGTGCGATCCCTGCACTTCAGCTAAGGAAGCTACCAATATTTAGTTTCCGAGTCTCACGTCTGACCTCGCGGGTAGATTGCCATGCGTAGAGCTTACGAGCCAGCGGAAAGTGTGAGGCGCTTTTAAGTATGGCGAGTAAGTGATCCAACGCTTCGGATGTGACTATATACTTAGGTTCGATCTCGTCCCGAGAATTTTAAGCCTCAGCATCTACGAGTTATGAGGTTAGCCAAAAAAGCACGTGGTGGCGCCCACCGACTGTTCCCAAACTGTAGCTCTTCGTTCCGTCAAGGCCCGACTTTCATCGCGGCCCATTCCATGCGCGGACCATACCGTCCTAATTCTTCGGTTATGTTTCCGATGTAGGAGTGAGCCTACCTGCCTTTGCGTCTTGATACCAATGAAAAACCTATGCACTTTGTACAGGGTGCCATCGGGTTTCTGAACTCTCAGATAGTGGGGATCCCGGGTAAAGACCTATATCTGCGGTCCAACTTAGGCATAAACCTCCATGCTACCTAGTCAGACCCACCCCGCACGGGGTAAATATGGCACGCGTCCGACCTGGTTCCTGGCGTTCTACGCTGCCACGTGTTCATTAACTGTTGTTTGGTAGCACAAAAGTATTACCATGGTCCTAGAAGTTCGGCACAGTTAGTTCGAGCCTAATGTCACAAATGACGCAGAACGCCAATGAGTGCCAGACATTAGGTGGAGTTCAGTTCGGTAACGGAGAGACTCTGCGGCGTACTTAATTATGCATTTGAAACGCGCCCAAGTGACGCTAGGCAAGTCAG\")\n",
    "pairing={'A':'T','T':'A','C':'G','G':'C'}"
   ]
  },
  {
   "cell_type": "code",
   "execution_count": 2,
   "id": "05e45f0a",
   "metadata": {},
   "outputs": [],
   "source": [
    "\n",
    "'''\n",
    "def prime(string):\n",
    "    inverse_string=string[::-1]\n",
    "    inverse_composite=[]\n",
    "    for char in inverse_string:\n",
    "        inverse_composite+=pairing.get(char)    \n",
    "    return inverse_composite\n",
    "'''\n",
    "\n",
    "#ALL positions recorded in natural counting, not computer indices, delete and inverts [site_1,site_2] inclusive\n",
    "def delete_between(DNA,site_1,site_2):\n",
    "    return DNA[:site_1-1]+DNA[site_2:]  \n",
    "\n",
    "def invert_between(DNA,site_1,site_2):\n",
    "    return DNA[:site_1-1]+prime(DNA[site_1-1:site_2])+DNA[site_2:] \n"
   ]
  },
  {
   "cell_type": "code",
   "execution_count": 3,
   "id": "0d20577b",
   "metadata": {},
   "outputs": [],
   "source": [
    "#Old version\n",
    "def detect_forward_sites(DNA,site):\n",
    "    site_length = len(site)\n",
    "    start_positions = []\n",
    "    end_positions = []\n",
    "    \n",
    "    # Slide through the DNA looking for matches\n",
    "    for i in range(len(DNA) - site_length + 1):\n",
    "        # Check if current window matches the site\n",
    "        if DNA[i:i+site_length] == site:\n",
    "            start_positions.append(i+1)\n",
    "            end_positions.append(i + site_length)\n",
    "    \n",
    "    return start_positions, end_positions\n",
    "\n",
    "def detect_backward_sites(DNA,site):\n",
    "    site_length = len(site)\n",
    "    start_positions = []\n",
    "    end_positions = []\n",
    "    \n",
    "    # Slide through the DNA looking for matches\n",
    "    for i in range(len(DNA) - site_length + 1):\n",
    "        # Check if current window matches the site\n",
    "        if DNA[i:i+site_length] == site[::-1]:\n",
    "            start_positions.append(i+1)\n",
    "            end_positions.append(i + site_length)  # -1 because end is inclusive\n",
    "    \n",
    "    return start_positions, end_positions\n",
    "import random \n",
    "def evaluate_colour_old(DNA,site_colour):\n",
    "    forward_start_positions, forward_end_positions=detect_forward_sites(DNA,site_colour)\n",
    "    backward_start_positions, backward_end_positions=detect_backward_sites(DNA,site_colour)\n",
    "    \n",
    "    \n",
    "    # Randomly select two elements (with replacement)\n",
    "    combined = [(num, 'forward') for num in forward_start_positions] + [(num, 'backward') for num in backward_start_positions]\n",
    "    choice1, choice2 = random.sample(combined, k=2)\n",
    "    num1, direction_1 = choice1\n",
    "    num2, direction_2 = choice2\n",
    "    if num1 > num2:\n",
    "        num1, num2 = num2, num1\n",
    "    \n",
    "    # Determine which function to use\n",
    "    #Not yet complete!!! must know if site included to delete or not\n",
    "    if direction_1 == direction_2:\n",
    "        return delete_between(DNA,num1,num2)\n",
    "    else:\n",
    "        return invert_between(DNA,num1,num2)"
   ]
  },
  {
   "cell_type": "code",
   "execution_count": 4,
   "id": "d8c42a7b",
   "metadata": {},
   "outputs": [],
   "source": [
    "#IS110\n",
    "diamond=[\"C\",\"T\"]\n",
    "def detect_forward_AAlpha_sites(DNA,A,Alpha):\n",
    "    site=A+diamond+Alpha\n",
    "    site_length = len(site)\n",
    "    start_positions = []\n",
    "    \n",
    "    # Slide through the DNA looking for matches\n",
    "    for i in range(len(DNA) - site_length + 1):\n",
    "        # Check if current window matches the site\n",
    "        if DNA[i:i+site_length] == site:\n",
    "            start_positions.append(i+1)\n",
    "            #end_positions.append(i + site_length)\n",
    "    \n",
    "    return start_positions\n",
    "\n",
    "def detect_forward_BBeta_sites(DNA,B,Beta):\n",
    "    site=B+diamond+Beta\n",
    "    site_length = len(site)\n",
    "    start_positions = []\n",
    "    \n",
    "    # Slide through the DNA looking for matches\n",
    "    for i in range(len(DNA) - site_length + 1):\n",
    "        # Check if current window matches the site\n",
    "        if DNA[i:i+site_length] == site:\n",
    "            start_positions.append(i+1)\n",
    "            #end_positions.append(i + site_length)\n",
    "    \n",
    "    return start_positions\n",
    "\n",
    "def detect_backward_BBeta_sites(DNA,B,Beta):\n",
    "    site=B+diamond+Beta\n",
    "    site_length = len(site)\n",
    "    start_positions = []\n",
    "    end_positions = []\n",
    "    \n",
    "    # Slide through the DNA looking for matches\n",
    "    for i in range(len(DNA) - site_length + 1):\n",
    "        # Check if current window matches the site\n",
    "        if DNA[i:i+site_length] == site[::-1]:\n",
    "            start_positions.append(i+1)\n",
    "            #end_positions.append(i + site_length)  # -1 because end is inclusive\n",
    "    \n",
    "    return start_positions\n",
    "\n",
    "import random \n",
    "def evaluate_colour_IS110(DNA,A,Alpha,Beta,B):\n",
    "    forward_AAlpha_start_positions=detect_forward_AAlpha_sites(DNA,A,Alpha)\n",
    "    forward_BBeta_start_positions=detect_forward_BBeta_sites(DNA,A,Alpha)\n",
    "    backward_BBeta_start_positions=detect_backward_BBeta_sites(DNA,A,Alpha)\n",
    "    \n",
    "    # Randomly select one AAlpha and one BBeta/BetaB\n",
    "    choice1=random.sample(forward_AAlpha_start_positions)\n",
    "    num1= choice1\n",
    "\n",
    "    combined_Target = [(num, 'forward') for num in forward_BBeta_start_positions] + [(num, 'backward') for num in backward_BBeta_start_positions]\n",
    "    choice2 = random.sample(combined_Target, k=1)\n",
    "    num2, direction_2 = choice2\n",
    "    #Not sure if the logic still holds for IS110!!!\n",
    "    if num1 > num2:\n",
    "        num1, num2 = num2, num1\n",
    "    \n",
    "    # Determine which function to use\n",
    "    #Not yet complete!!! must know if site included to delete or not\n",
    "    if direction_2 == 'forward':\n",
    "        return delete_between(DNA,num1+len(A+diamond),num2+len(B+diamond))\n",
    "    else:\n",
    "        return invert_between(DNA,num1+len(A+diamond),num2+len())"
   ]
  },
  {
   "cell_type": "code",
   "execution_count": 5,
   "id": "bbbf59ef",
   "metadata": {},
   "outputs": [],
   "source": [
    "def monte_carlo_probability_estimation(DNA,site_colour, num_simulations=100000,evaluation_method=evaluate_colour_old):\n",
    "    # Dictionary to store counts of each outcome\n",
    "    outcome_counts = {}\n",
    "    \n",
    "    # Run simulations\n",
    "    for _ in range(num_simulations):\n",
    "        output = \"\".join(evaluation_method(DNA,site_colour))\n",
    "        if output not in outcome_counts:\n",
    "            outcome_counts[output] = 1\n",
    "        outcome_counts[output] += 1\n",
    "    \n",
    "    # Calculate probabilities\n",
    "    probabilities = {outcome: count / num_simulations \n",
    "                     for outcome, count in outcome_counts.items()}\n",
    "    \n",
    "    return probabilities"
   ]
  },
  {
   "cell_type": "code",
   "execution_count": 6,
   "id": "5b521500",
   "metadata": {},
   "outputs": [],
   "source": [
    "def prime(string):\n",
    "    inverse_string=string[::-1]\n",
    "    for i in range(len(inverse_string)):\n",
    "        inverse_string[i]=inverse_string[i].lower()\n",
    "    return inverse_string\n",
    "\n",
    "initial_dna_sequence=list(\"ABCDEFGHIJKLMNOPQCBARSTUVWXYZABC\")"
   ]
  },
  {
   "cell_type": "code",
   "execution_count": 7,
   "id": "9f296479",
   "metadata": {},
   "outputs": [
    {
     "ename": "NameError",
     "evalue": "name 'evaluate_colour' is not defined",
     "output_type": "error",
     "traceback": [
      "\u001b[1;31m---------------------------------------------------------------------------\u001b[0m",
      "\u001b[1;31mNameError\u001b[0m                                 Traceback (most recent call last)",
      "\u001b[1;32m~\\AppData\\Local\\Temp\\ipykernel_88860\\570360694.py\u001b[0m in \u001b[0;36m<module>\u001b[1;34m\u001b[0m\n\u001b[1;32m----> 1\u001b[1;33m \u001b[0mprint\u001b[0m\u001b[1;33m(\u001b[0m\u001b[1;34m\"\"\u001b[0m\u001b[1;33m.\u001b[0m\u001b[0mjoin\u001b[0m\u001b[1;33m(\u001b[0m\u001b[0mevaluate_colour\u001b[0m\u001b[1;33m(\u001b[0m\u001b[0minitial_dna_sequence\u001b[0m\u001b[1;33m,\u001b[0m\u001b[0mlist\u001b[0m\u001b[1;33m(\u001b[0m\u001b[1;34m\"ABC\"\u001b[0m\u001b[1;33m)\u001b[0m\u001b[1;33m)\u001b[0m\u001b[1;33m)\u001b[0m\u001b[1;33m)\u001b[0m\u001b[1;33m\u001b[0m\u001b[1;33m\u001b[0m\u001b[0m\n\u001b[0m",
      "\u001b[1;31mNameError\u001b[0m: name 'evaluate_colour' is not defined"
     ]
    }
   ],
   "source": [
    "print(\"\".join(evaluate_colour(initial_dna_sequence,list(\"ABC\"))))"
   ]
  },
  {
   "cell_type": "code",
   "execution_count": null,
   "id": "e211fc24",
   "metadata": {},
   "outputs": [
    {
     "name": "stdout",
     "output_type": "stream",
     "text": [
      "Estimated Probabilities: {'ABCDEFGHIJKLMNOPQazyxwvutsrabcBC': 0.33155, 'BC': 0.33276, 'cqponmlkjihgfedcbaBARSTUVWXYZABC': 0.33572}\n"
     ]
    }
   ],
   "source": [
    "# Run the Monte Carlo simulation\n",
    "probabilities = monte_carlo_probability_estimation(initial_dna_sequence,list(\"ABC\"), num_simulations=100000)\n",
    "print(\"Estimated Probabilities:\", probabilities)"
   ]
  },
  {
   "cell_type": "code",
   "execution_count": null,
   "id": "aa61f77d",
   "metadata": {},
   "outputs": [
    {
     "name": "stdout",
     "output_type": "stream",
     "text": [
      "Hello world\n"
     ]
    }
   ],
   "source": [
    "print(\"Hello world\")"
   ]
  }
 ],
 "metadata": {
  "kernelspec": {
   "display_name": "rstudio",
   "language": "python",
   "name": "python3"
  },
  "language_info": {
   "codemirror_mode": {
    "name": "ipython",
    "version": 3
   },
   "file_extension": ".py",
   "mimetype": "text/x-python",
   "name": "python",
   "nbconvert_exporter": "python",
   "pygments_lexer": "ipython3",
   "version": "3.7.1"
  }
 },
 "nbformat": 4,
 "nbformat_minor": 5
}
