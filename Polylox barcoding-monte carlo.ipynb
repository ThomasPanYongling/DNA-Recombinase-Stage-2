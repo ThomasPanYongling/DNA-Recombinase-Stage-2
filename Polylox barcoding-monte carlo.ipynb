{
 "cells": [
  {
   "cell_type": "code",
   "execution_count": 53,
   "id": "06f3bb25",
   "metadata": {},
   "outputs": [],
   "source": [
    "initial_dna_sequence = list(\"A9B6C9D6E9F6G9H6I9J6K\")\n",
    "forward_9_positions=[1,5,9,13,17]#computer positions\n",
    "    \n",
    "backward_6_positions=[3,7,11,15,19]#computer positions"
   ]
  },
  {
   "cell_type": "code",
   "execution_count": 54,
   "id": "9cca5e38",
   "metadata": {},
   "outputs": [],
   "source": [
    "def prime(sequence):\n",
    "    inverse_composite=sequence[::-1]\n",
    "    for i in range(len(inverse_composite)):\n",
    "        if inverse_composite[i]=='6':\n",
    "            inverse_composite[i]='9'\n",
    "        elif inverse_composite[i]=='9':\n",
    "            inverse_composite[i]='6'\n",
    "        elif inverse_composite[i].islower():\n",
    "            inverse_composite[i]=inverse_composite[i].upper()\n",
    "        elif inverse_composite[i].isupper():\n",
    "            inverse_composite[i]=inverse_composite[i].lower()\n",
    "        else:\n",
    "            raise SyntaxError\n",
    "    return inverse_composite\n",
    "\n",
    "def detect_forward_sites(DNA,site):\n",
    "    site_length = len(site)\n",
    "    start_positions = []\n",
    "    end_positions = []\n",
    "    \n",
    "    # Slide through the DNA looking for matches\n",
    "    for i in range(len(DNA) - site_length + 1):\n",
    "        # Check if current window matches the site\n",
    "        if DNA[i:i+site_length] == site:\n",
    "            start_positions.append(i)#computer positions\n",
    "    \n",
    "    return start_positions\n",
    "\n",
    "def detect_backward_sites(DNA,site):\n",
    "    site_length = len(site)\n",
    "    start_positions = []\n",
    "    end_positions = []\n",
    "    \n",
    "    # Slide through the DNA looking for matches\n",
    "    for i in range(len(DNA) - site_length + 1):\n",
    "        # Check if current window matches the site\n",
    "        if DNA[i:i+site_length] == site[::-1]:\n",
    "            start_positions.append(i)#computer positions\n",
    "    \n",
    "    return start_positions\n",
    "\n",
    "#ALL positions recorded in natural counting, not computer indices, delete and inverts [site_1,site_2] inclusive\n",
    "def delete_between(DNA,site_1,site_2):\n",
    "    return DNA[:site_1-1]+DNA[site_2:]  \n",
    "\n",
    "def invert_between(DNA,site_1,site_2):\n",
    "    return DNA[:site_1-1]+prime(DNA[site_1-1:site_2])+DNA[site_2:] \n",
    "\n",
    "import random\n",
    "\n",
    "def evaluate_colour_CRE(DNA):\n",
    "    forward_9_positions=detect_forward_sites(DNA,['9'])\n",
    "    backward_6_positions=detect_backward_sites(DNA,['6'])\n",
    "    # Randomly select two sites\n",
    "    combined = [(num, 'forward') for num in forward_9_positions] + [(num, 'backward') for num in backward_6_positions]\n",
    "    if len(combined)<2:\n",
    "        return(DNA)#check here\n",
    "    choice1,choice2 = random.sample(combined, k=2)\n",
    "    num1, direction_1 = choice1\n",
    "    num2, direction_2 = choice2\n",
    "    #WLOG,make num 1 the smaller one\n",
    "    if num1 > num2:\n",
    "        num1, num2 = num2, num1\n",
    "    \n",
    "    # Determine which function to use\n",
    "    #Not yet complete,must know if <> is a flip\n",
    "    if direction_1 == 'forward':\n",
    "        if direction_1 == direction_2:\n",
    "            return delete_between(DNA,num1+1,num2)\n",
    "        elif direction_1!=direction_2:\n",
    "            return invert_between(DNA,num1+1,num2+1)\n",
    "    elif direction_1=='backward':\n",
    "        if direction_1 == direction_2:\n",
    "            return delete_between(DNA,num1+1,num2)\n",
    "        elif direction_1!=direction_2:\n",
    "            return DNA#evaluate_colour_CRE(DNA,forward_9_positions,backward_6_positions)"
   ]
  },
  {
   "cell_type": "code",
   "execution_count": 55,
   "id": "897a3b3c",
   "metadata": {},
   "outputs": [
    {
     "name": "stdout",
     "output_type": "stream",
     "text": [
      "A9B6C9D6E9F6G9H6I9J6K\n",
      "A9B6C9D6E9F6G9J6K\n",
      "A9B6C9D6E9F6G9J6K\n",
      "A9B6C9D6E9F6G9H6K\n",
      "A9f6e9d6c9b6G9H6I9J6K\n",
      "A9B6C9D6E9F6G9H6I9J6K\n",
      "A9B6K\n",
      "A9B6C9f6e9d6G9H6I9J6K\n",
      "A9H6I9J6K\n",
      "A9B6C9H6I9J6K\n"
     ]
    }
   ],
   "source": [
    "for i in range(10):\n",
    "    #print(evaluate_colour_CRE(initial_dna_sequence,forward_9_positions,backward_6_positions))\n",
    "    print(\"\".join(evaluate_colour_CRE(initial_dna_sequence)))\n",
    "    #print(\"---------\")"
   ]
  },
  {
   "cell_type": "code",
   "execution_count": 65,
   "id": "3dff7c40",
   "metadata": {},
   "outputs": [],
   "source": [
    "def monte_carlo_probability_estimation(DNA, num_simulations=10000,num_recombinases_events=7):\n",
    "    # Dictionary to store counts of each outcome\n",
    "    outcome_counts = {}\n",
    "    \n",
    "    # Run simulations\n",
    "    \n",
    "\n",
    "    for _ in range(num_simulations):\n",
    "        output=DNA\n",
    "        for i in range (num_recombinases_events):\n",
    "            output = evaluate_colour_CRE(output)\n",
    "        formatted_output = \"\".join(output)\n",
    "        if formatted_output not in outcome_counts:\n",
    "            outcome_counts[formatted_output] = 1\n",
    "        outcome_counts[formatted_output] += 1\n",
    "    \n",
    "    # Calculate probabilities\n",
    "    probabilities = {outcome: count / num_simulations \n",
    "                     for outcome, count in outcome_counts.items()}\n",
    "    \n",
    "    return probabilities, outcome_counts"
   ]
  },
  {
   "cell_type": "code",
   "execution_count": null,
   "id": "6ae3f0b4",
   "metadata": {},
   "outputs": [],
   "source": [
    "def probability_calculation(DNA, num_simulations=10000,num_recombinases_events=7):\n",
    "    # Dictionary to store counts of each outcome\n",
    "    outcome_counts = {}\n",
    "    outcome_list=[]\n",
    "    # Run simulations\n",
    "    \n",
    "    for output in outcome_list:\n",
    "        for _ in range(num_simulations):\n",
    "        output = evaluate_colour_CRE(output)\n",
    "        formatted_output = \"\".join(output)  \n",
    "        if formatted_output not in outcome_counts:\n",
    "            outcome_counts[formatted_output] = 1\n",
    "            outcome_list.append(output)\n",
    "        outcome_counts[formatted_output] += 1\n",
    "        \n",
    "    # Calculate probabilities\n",
    "    probabilities = {outcome: count / num_simulations \n",
    "                     for outcome, count in outcome_counts.items()}\n",
    "    \n",
    "    return probabilities, outcome_counts"
   ]
  },
  {
   "cell_type": "code",
   "execution_count": 71,
   "id": "2eca38fe",
   "metadata": {},
   "outputs": [
    {
     "name": "stdout",
     "output_type": "stream",
     "text": [
      "46\n",
      "676\n",
      "6668\n",
      "38898\n",
      "76533\n",
      "101602\n",
      "113916\n",
      "113418\n",
      "103253\n"
     ]
    }
   ],
   "source": [
    "data={}\n",
    "for i in range(9):\n",
    "    probabilities,outcome_counts= monte_carlo_probability_estimation(initial_dna_sequence,num_simulations=10000000,num_recombinases_events=i+1)\n",
    "    print(len(outcome_counts))\n",
    "    data[i]=len(outcome_counts)\n"
   ]
  },
  {
   "cell_type": "code",
   "execution_count": null,
   "id": "4e292f56",
   "metadata": {},
   "outputs": [],
   "source": [
    "data={1:46,2:676,3:6668,4:38898,5:76533,6:101602,7:113916,8:113418,9:103253}\n"
   ]
  },
  {
   "cell_type": "code",
   "execution_count": 87,
   "id": "14541d07",
   "metadata": {},
   "outputs": [
    {
     "data": {
      "image/png": "[encoded data removed]",
      "text/plain": [
       "<Figure size 640x480 with 1 Axes>"
      ]
     },
     "metadata": {},
     "output_type": "display_data"
    }
   ],
   "source": [
    "import matplotlib.pyplot as plt\n",
    "import numpy as np\n",
    "\n",
    "# Extract keys (x-axis) and values (y-axis)\n",
    "x = list(data.keys())\n",
    "y = np.log10(list(data.values()))\n",
    "\n",
    "# Create a bar plot (or line plot)\n",
    "plt.plot(x, y)  # For a bar chart\n",
    "# plt.plot(x, y, marker='o')  # For a line plot with markers\n",
    "\n",
    "# Add labels and title\n",
    "plt.xlabel('Keys')\n",
    "plt.ylabel('Values')\n",
    "plt.title('Dictionary Plot')\n",
    "\n",
    "# Show the plot\n",
    "plt.show()"
   ]
  }
 ],
 "metadata": {
  "kernelspec": {
   "display_name": "Python 3",
   "language": "python",
   "name": "python3"
  },
  "language_info": {
   "codemirror_mode": {
    "name": "ipython",
    "version": 3
   },
   "file_extension": ".py",
   "mimetype": "text/x-python",
   "name": "python",
   "nbconvert_exporter": "python",
   "pygments_lexer": "ipython3",
   "version": "3.12.2"
  }
 },
 "nbformat": 4,
 "nbformat_minor": 5
}
